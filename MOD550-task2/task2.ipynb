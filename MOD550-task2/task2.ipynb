{
 "cells": [
  {
   "cell_type": "markdown",
   "id": "19c82c92",
   "metadata": {},
   "source": [
    "task 2.1: Make a DataModel class that reads the output of the DataAquisition class (from task1) in its __init__()  \n",
    "\n",
    "task 2.2: Make a function in DataModel to make a linear regression. I suggest you try to do it on your own with only vanilla python and the class notes. If you are lost, you can find practical info here on how to use already made libraries: https://www.geeksforgeeks.org/machine-learning/regularization-in-machine-learning/Lenker til en ekstern side.  The issue here will be data structure: np.array vs list of list vs pandas DataFrames.  \n",
    "\n",
    "task 2.3: Make a function that split the data you got from DataAquisition into train, validation and test. Do it  with vanilla python. You need to make sure you understand the data structure.  \n",
    "\n",
    "task 2.4: Make a function that computes MSE (make your own, don't copy from my notes :P )  \n",
    "\n",
    "task 2.5: Make a function to make NN. It would be essentially a wrapper of other libraries, I suggest to use Keras:  https://www.geeksforgeeks.org/machine-learning/how-to-create-models-in-keras/  . You should have acquired enough notions to handle this tool.  \n",
    "\n",
    "task 2.6: Make a function that does K_MEAN and GMM (we will discuss them next week)  \n",
    "\n",
    "Once these methods (recipes) are done, you can now make cakes! :) :  \n",
    "\n",
    "task 2.7: Make a linear regression on all your data (statistic ).  \n",
    "\n",
    "task 2.8: Make a linear regression on all your train data and test it on your validation.  \n",
    "\n",
    "task 2.9: Compute the MSE on your validation data.   \n",
    "\n",
    "task 2.10: Try for different distribution of initial data point, (a) Discuss how different functions can be used in the linear regression, and different NN architecture. (b) Discuss how you can use the validation data for the different cases. (c) Discuss the different outcome from the different models when using the full dataset to train and when you use a different ML approach. (d) Discuss the outcomes you get for K-means and GMM. (e) Discuss how you can integrate supervised and unsupervised methods for your case.  "
   ]
  },
  {
   "cell_type": "code",
   "execution_count": null,
   "id": "c3d2efd3",
   "metadata": {
    "vscode": {
     "languageId": "plaintext"
    }
   },
   "outputs": [],
   "source": []
  }
 ],
 "metadata": {
  "language_info": {
   "name": "python"
  }
 },
 "nbformat": 4,
 "nbformat_minor": 5
}
